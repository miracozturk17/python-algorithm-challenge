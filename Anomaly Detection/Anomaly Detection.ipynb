{
 "cells": [
  {
   "cell_type": "code",
   "execution_count": 70,
   "id": "46bd8519",
   "metadata": {},
   "outputs": [],
   "source": [
    "import seaborn as sns\n",
    "import matplotlib.pyplot as plot\n",
    "from sklearn.cluster import KMeans\n",
    "from sklearn.cluster import MiniBatchKMeans #KMEANS OMP DURUM ANALIZI ICIN.\n",
    "import warnings #HATA YONETIMI ICIN.\n",
    "import numpy as nmp\n",
    "from sklearn.preprocessing import MinMaxScaler\n",
    "import pandas as pd\n",
    "from sklearn.cluster import DBSCAN"
   ]
  },
  {
   "cell_type": "code",
   "execution_count": 71,
   "id": "23419de8",
   "metadata": {},
   "outputs": [],
   "source": [
    "iris_dataset = sns.load_dataset(\"iris\")"
   ]
  },
  {
   "cell_type": "code",
   "execution_count": 72,
   "id": "48c9ba99",
   "metadata": {},
   "outputs": [
    {
     "name": "stdout",
     "output_type": "stream",
     "text": [
      "     sepal_length  sepal_width  petal_length  petal_width    species\n",
      "0             5.1          3.5           1.4          0.2     setosa\n",
      "1             4.9          3.0           1.4          0.2     setosa\n",
      "2             4.7          3.2           1.3          0.2     setosa\n",
      "3             4.6          3.1           1.5          0.2     setosa\n",
      "4             5.0          3.6           1.4          0.2     setosa\n",
      "..            ...          ...           ...          ...        ...\n",
      "145           6.7          3.0           5.2          2.3  virginica\n",
      "146           6.3          2.5           5.0          1.9  virginica\n",
      "147           6.5          3.0           5.2          2.0  virginica\n",
      "148           6.2          3.4           5.4          2.3  virginica\n",
      "149           5.9          3.0           5.1          1.8  virginica\n",
      "\n",
      "[150 rows x 5 columns]\n"
     ]
    }
   ],
   "source": [
    "print(iris_dataset)"
   ]
  },
  {
   "cell_type": "code",
   "execution_count": 73,
   "id": "a0ef3526",
   "metadata": {},
   "outputs": [
    {
     "name": "stdout",
     "output_type": "stream",
     "text": [
      "##############DATA INFO##############\n",
      "<class 'pandas.core.frame.DataFrame'>\n",
      "RangeIndex: 150 entries, 0 to 149\n",
      "Data columns (total 5 columns):\n",
      " #   Column        Non-Null Count  Dtype  \n",
      "---  ------        --------------  -----  \n",
      " 0   sepal_length  150 non-null    float64\n",
      " 1   sepal_width   150 non-null    float64\n",
      " 2   petal_length  150 non-null    float64\n",
      " 3   petal_width   150 non-null    float64\n",
      " 4   species       150 non-null    object \n",
      "dtypes: float64(4), object(1)\n",
      "memory usage: 6.0+ KB\n",
      "#####################################\n"
     ]
    }
   ],
   "source": [
    "iris_dataset.head()\n",
    "print(\"##############DATA INFO##############\")\n",
    "iris_dataset.info()\n",
    "print(\"#####################################\")"
   ]
  },
  {
   "cell_type": "code",
   "execution_count": 74,
   "id": "05fa41d7",
   "metadata": {},
   "outputs": [
    {
     "data": {
      "text/html": [
       "<div>\n",
       "<style scoped>\n",
       "    .dataframe tbody tr th:only-of-type {\n",
       "        vertical-align: middle;\n",
       "    }\n",
       "\n",
       "    .dataframe tbody tr th {\n",
       "        vertical-align: top;\n",
       "    }\n",
       "\n",
       "    .dataframe thead th {\n",
       "        text-align: right;\n",
       "    }\n",
       "</style>\n",
       "<table border=\"1\" class=\"dataframe\">\n",
       "  <thead>\n",
       "    <tr style=\"text-align: right;\">\n",
       "      <th></th>\n",
       "      <th>sepal_length</th>\n",
       "      <th>sepal_width</th>\n",
       "      <th>petal_length</th>\n",
       "      <th>petal_width</th>\n",
       "      <th>species</th>\n",
       "    </tr>\n",
       "  </thead>\n",
       "  <tbody>\n",
       "    <tr>\n",
       "      <th>0</th>\n",
       "      <td>5.1</td>\n",
       "      <td>3.5</td>\n",
       "      <td>1.4</td>\n",
       "      <td>0.2</td>\n",
       "      <td>setosa</td>\n",
       "    </tr>\n",
       "    <tr>\n",
       "      <th>1</th>\n",
       "      <td>4.9</td>\n",
       "      <td>3.0</td>\n",
       "      <td>1.4</td>\n",
       "      <td>0.2</td>\n",
       "      <td>setosa</td>\n",
       "    </tr>\n",
       "    <tr>\n",
       "      <th>2</th>\n",
       "      <td>4.7</td>\n",
       "      <td>3.2</td>\n",
       "      <td>1.3</td>\n",
       "      <td>0.2</td>\n",
       "      <td>setosa</td>\n",
       "    </tr>\n",
       "    <tr>\n",
       "      <th>3</th>\n",
       "      <td>4.6</td>\n",
       "      <td>3.1</td>\n",
       "      <td>1.5</td>\n",
       "      <td>0.2</td>\n",
       "      <td>setosa</td>\n",
       "    </tr>\n",
       "    <tr>\n",
       "      <th>4</th>\n",
       "      <td>5.0</td>\n",
       "      <td>3.6</td>\n",
       "      <td>1.4</td>\n",
       "      <td>0.2</td>\n",
       "      <td>setosa</td>\n",
       "    </tr>\n",
       "    <tr>\n",
       "      <th>...</th>\n",
       "      <td>...</td>\n",
       "      <td>...</td>\n",
       "      <td>...</td>\n",
       "      <td>...</td>\n",
       "      <td>...</td>\n",
       "    </tr>\n",
       "    <tr>\n",
       "      <th>145</th>\n",
       "      <td>6.7</td>\n",
       "      <td>3.0</td>\n",
       "      <td>5.2</td>\n",
       "      <td>2.3</td>\n",
       "      <td>virginica</td>\n",
       "    </tr>\n",
       "    <tr>\n",
       "      <th>146</th>\n",
       "      <td>6.3</td>\n",
       "      <td>2.5</td>\n",
       "      <td>5.0</td>\n",
       "      <td>1.9</td>\n",
       "      <td>virginica</td>\n",
       "    </tr>\n",
       "    <tr>\n",
       "      <th>147</th>\n",
       "      <td>6.5</td>\n",
       "      <td>3.0</td>\n",
       "      <td>5.2</td>\n",
       "      <td>2.0</td>\n",
       "      <td>virginica</td>\n",
       "    </tr>\n",
       "    <tr>\n",
       "      <th>148</th>\n",
       "      <td>6.2</td>\n",
       "      <td>3.4</td>\n",
       "      <td>5.4</td>\n",
       "      <td>2.3</td>\n",
       "      <td>virginica</td>\n",
       "    </tr>\n",
       "    <tr>\n",
       "      <th>149</th>\n",
       "      <td>5.9</td>\n",
       "      <td>3.0</td>\n",
       "      <td>5.1</td>\n",
       "      <td>1.8</td>\n",
       "      <td>virginica</td>\n",
       "    </tr>\n",
       "  </tbody>\n",
       "</table>\n",
       "<p>150 rows × 5 columns</p>\n",
       "</div>"
      ],
      "text/plain": [
       "     sepal_length  sepal_width  petal_length  petal_width    species\n",
       "0             5.1          3.5           1.4          0.2     setosa\n",
       "1             4.9          3.0           1.4          0.2     setosa\n",
       "2             4.7          3.2           1.3          0.2     setosa\n",
       "3             4.6          3.1           1.5          0.2     setosa\n",
       "4             5.0          3.6           1.4          0.2     setosa\n",
       "..            ...          ...           ...          ...        ...\n",
       "145           6.7          3.0           5.2          2.3  virginica\n",
       "146           6.3          2.5           5.0          1.9  virginica\n",
       "147           6.5          3.0           5.2          2.0  virginica\n",
       "148           6.2          3.4           5.4          2.3  virginica\n",
       "149           5.9          3.0           5.1          1.8  virginica\n",
       "\n",
       "[150 rows x 5 columns]"
      ]
     },
     "execution_count": 74,
     "metadata": {},
     "output_type": "execute_result"
    }
   ],
   "source": [
    "iris_dataset"
   ]
  },
  {
   "cell_type": "code",
   "execution_count": 75,
   "id": "c815b277",
   "metadata": {},
   "outputs": [
    {
     "name": "stdout",
     "output_type": "stream",
     "text": [
      "##############DATA COLUMNS##############\n",
      "Index(['sepal_length', 'sepal_width', 'petal_length', 'petal_width',\n",
      "       'species'],\n",
      "      dtype='object')\n",
      "##############DATA DESCRIBE#############\n",
      "       sepal_length  sepal_width  petal_length  petal_width\n",
      "count    150.000000   150.000000    150.000000   150.000000\n",
      "mean       5.843333     3.057333      3.758000     1.199333\n",
      "std        0.828066     0.435866      1.765298     0.762238\n",
      "min        4.300000     2.000000      1.000000     0.100000\n",
      "25%        5.100000     2.800000      1.600000     0.300000\n",
      "50%        5.800000     3.000000      4.350000     1.300000\n",
      "75%        6.400000     3.300000      5.100000     1.800000\n",
      "max        7.900000     4.400000      6.900000     2.500000\n",
      "##############DATA NULL?################\n"
     ]
    },
    {
     "data": {
      "text/plain": [
       "sepal_length    0\n",
       "sepal_width     0\n",
       "petal_length    0\n",
       "petal_width     0\n",
       "species         0\n",
       "dtype: int64"
      ]
     },
     "execution_count": 75,
     "metadata": {},
     "output_type": "execute_result"
    }
   ],
   "source": [
    "iris_dataset.describe()\n",
    "iris_dataset.columns\n",
    "print(\"##############DATA COLUMNS##############\")\n",
    "print(iris_dataset.columns)\n",
    "print(\"##############DATA DESCRIBE#############\")\n",
    "print(iris_dataset.describe())\n",
    "print(\"##############DATA NULL?################\")\n",
    "iris_dataset.isnull().sum()"
   ]
  },
  {
   "cell_type": "code",
   "execution_count": 76,
   "id": "331b6ad0",
   "metadata": {},
   "outputs": [
    {
     "name": "stdout",
     "output_type": "stream",
     "text": [
      "['setosa' 'versicolor' 'virginica']\n"
     ]
    }
   ],
   "source": [
    "iris_dataset['species'].unique()\n",
    "print(iris_dataset['species'].unique())"
   ]
  },
  {
   "cell_type": "code",
   "execution_count": 77,
   "id": "0f581a9c",
   "metadata": {},
   "outputs": [
    {
     "name": "stdout",
     "output_type": "stream",
     "text": [
      "    sepal_length  sepal_width  petal_length  petal_width species\n",
      "0            5.1          3.5           1.4          0.2  setosa\n",
      "1            4.9          3.0           1.4          0.2  setosa\n",
      "2            4.7          3.2           1.3          0.2  setosa\n",
      "3            4.6          3.1           1.5          0.2  setosa\n",
      "4            5.0          3.6           1.4          0.2  setosa\n",
      "5            5.4          3.9           1.7          0.4  setosa\n",
      "6            4.6          3.4           1.4          0.3  setosa\n",
      "7            5.0          3.4           1.5          0.2  setosa\n",
      "8            4.4          2.9           1.4          0.2  setosa\n",
      "9            4.9          3.1           1.5          0.1  setosa\n",
      "10           5.4          3.7           1.5          0.2  setosa\n",
      "11           4.8          3.4           1.6          0.2  setosa\n",
      "12           4.8          3.0           1.4          0.1  setosa\n",
      "13           4.3          3.0           1.1          0.1  setosa\n",
      "14           5.8          4.0           1.2          0.2  setosa\n",
      "15           5.7          4.4           1.5          0.4  setosa\n",
      "16           5.4          3.9           1.3          0.4  setosa\n",
      "17           5.1          3.5           1.4          0.3  setosa\n",
      "18           5.7          3.8           1.7          0.3  setosa\n",
      "19           5.1          3.8           1.5          0.3  setosa\n"
     ]
    }
   ],
   "source": [
    "print(iris_dataset.head(20))"
   ]
  },
  {
   "cell_type": "code",
   "execution_count": 78,
   "id": "c8170c18",
   "metadata": {},
   "outputs": [],
   "source": [
    "iris_dataset.iloc[2,4] = 'virginica'\n",
    "iris_dataset.iloc[7,4] = 'virginica'\n",
    "iris_dataset.iloc[9,4] = 'virginica'\n",
    "iris_dataset.iloc[11,4] = 'virginica'"
   ]
  },
  {
   "cell_type": "code",
   "execution_count": 79,
   "id": "cae01409",
   "metadata": {},
   "outputs": [
    {
     "name": "stdout",
     "output_type": "stream",
     "text": [
      "    sepal_length  sepal_width  petal_length  petal_width    species\n",
      "0            5.1          3.5           1.4          0.2     setosa\n",
      "1            4.9          3.0           1.4          0.2     setosa\n",
      "2            4.7          3.2           1.3          0.2  virginica\n",
      "3            4.6          3.1           1.5          0.2     setosa\n",
      "4            5.0          3.6           1.4          0.2     setosa\n",
      "5            5.4          3.9           1.7          0.4     setosa\n",
      "6            4.6          3.4           1.4          0.3     setosa\n",
      "7            5.0          3.4           1.5          0.2  virginica\n",
      "8            4.4          2.9           1.4          0.2     setosa\n",
      "9            4.9          3.1           1.5          0.1  virginica\n",
      "10           5.4          3.7           1.5          0.2     setosa\n",
      "11           4.8          3.4           1.6          0.2  virginica\n",
      "12           4.8          3.0           1.4          0.1     setosa\n",
      "13           4.3          3.0           1.1          0.1     setosa\n",
      "14           5.8          4.0           1.2          0.2     setosa\n",
      "15           5.7          4.4           1.5          0.4     setosa\n",
      "16           5.4          3.9           1.3          0.4     setosa\n",
      "17           5.1          3.5           1.4          0.3     setosa\n",
      "18           5.7          3.8           1.7          0.3     setosa\n",
      "19           5.1          3.8           1.5          0.3     setosa\n"
     ]
    }
   ],
   "source": [
    "print(iris_dataset.head(20))"
   ]
  },
  {
   "cell_type": "code",
   "execution_count": 80,
   "id": "70806f19",
   "metadata": {},
   "outputs": [],
   "source": [
    "virginica_df = iris_dataset.loc[iris_dataset['species']=='virginica']\n",
    "virginica_df = virginica_df.reset_index(drop=True) "
   ]
  },
  {
   "cell_type": "code",
   "execution_count": 81,
   "id": "78e46c39",
   "metadata": {},
   "outputs": [
    {
     "data": {
      "text/html": [
       "<div>\n",
       "<style scoped>\n",
       "    .dataframe tbody tr th:only-of-type {\n",
       "        vertical-align: middle;\n",
       "    }\n",
       "\n",
       "    .dataframe tbody tr th {\n",
       "        vertical-align: top;\n",
       "    }\n",
       "\n",
       "    .dataframe thead th {\n",
       "        text-align: right;\n",
       "    }\n",
       "</style>\n",
       "<table border=\"1\" class=\"dataframe\">\n",
       "  <thead>\n",
       "    <tr style=\"text-align: right;\">\n",
       "      <th></th>\n",
       "      <th>sepal_length</th>\n",
       "      <th>sepal_width</th>\n",
       "      <th>petal_length</th>\n",
       "      <th>petal_width</th>\n",
       "      <th>species</th>\n",
       "    </tr>\n",
       "  </thead>\n",
       "  <tbody>\n",
       "    <tr>\n",
       "      <th>0</th>\n",
       "      <td>4.7</td>\n",
       "      <td>3.2</td>\n",
       "      <td>1.3</td>\n",
       "      <td>0.2</td>\n",
       "      <td>virginica</td>\n",
       "    </tr>\n",
       "    <tr>\n",
       "      <th>1</th>\n",
       "      <td>5.0</td>\n",
       "      <td>3.4</td>\n",
       "      <td>1.5</td>\n",
       "      <td>0.2</td>\n",
       "      <td>virginica</td>\n",
       "    </tr>\n",
       "    <tr>\n",
       "      <th>2</th>\n",
       "      <td>4.9</td>\n",
       "      <td>3.1</td>\n",
       "      <td>1.5</td>\n",
       "      <td>0.1</td>\n",
       "      <td>virginica</td>\n",
       "    </tr>\n",
       "    <tr>\n",
       "      <th>3</th>\n",
       "      <td>4.8</td>\n",
       "      <td>3.4</td>\n",
       "      <td>1.6</td>\n",
       "      <td>0.2</td>\n",
       "      <td>virginica</td>\n",
       "    </tr>\n",
       "    <tr>\n",
       "      <th>4</th>\n",
       "      <td>6.3</td>\n",
       "      <td>3.3</td>\n",
       "      <td>6.0</td>\n",
       "      <td>2.5</td>\n",
       "      <td>virginica</td>\n",
       "    </tr>\n",
       "  </tbody>\n",
       "</table>\n",
       "</div>"
      ],
      "text/plain": [
       "   sepal_length  sepal_width  petal_length  petal_width    species\n",
       "0           4.7          3.2           1.3          0.2  virginica\n",
       "1           5.0          3.4           1.5          0.2  virginica\n",
       "2           4.9          3.1           1.5          0.1  virginica\n",
       "3           4.8          3.4           1.6          0.2  virginica\n",
       "4           6.3          3.3           6.0          2.5  virginica"
      ]
     },
     "execution_count": 81,
     "metadata": {},
     "output_type": "execute_result"
    }
   ],
   "source": [
    "virginica_df.head(5)"
   ]
  },
  {
   "cell_type": "code",
   "execution_count": 82,
   "id": "b11be6ca",
   "metadata": {},
   "outputs": [],
   "source": [
    "virginica_np = virginica_df.iloc[:,:4].values\n",
    "scaler = MinMaxScaler()\n",
    "virginica_sc = scaler.fit_transform(virginica_np)"
   ]
  },
  {
   "cell_type": "code",
   "execution_count": 83,
   "id": "62f0addd",
   "metadata": {},
   "outputs": [
    {
     "name": "stdout",
     "output_type": "stream",
     "text": [
      "##############USER FOLDER##############\n",
      "##############CUSTOM FOLDER############\n"
     ]
    },
    {
     "data": {
      "image/png": "[encoded data removed]",
      "text/plain": [
       "<Figure size 432x288 with 1 Axes>"
      ]
     },
     "metadata": {},
     "output_type": "display_data"
    }
   ],
   "source": [
    "sns.set()\n",
    "plot.subplot(1,2,1)\n",
    "sns.scatterplot(data=virginica_df, x='sepal_length', y='sepal_width')\n",
    "plot.scatter(x=5.1, y=3.5, marker='*', color='red',linewidths = 2.1)\n",
    "plot.scatter(x=4.6, y=3.1, marker='*', color='red',linewidths = 2.1)\n",
    "plot.xlabel('sepal_length')\n",
    "plot.ylabel('sepal_width')\n",
    "plot.title('Sepal length v width')\n",
    "print(\"##############USER FOLDER##############\")\n",
    "plot.savefig('Sepal length v width V-1') \n",
    "print(\"##############CUSTOM FOLDER############\")\n",
    "plot.savefig('C:/Users/user/Desktop/Sepal length v width V-1') \n",
    "plot.show()\n",
    "plot.close()"
   ]
  },
  {
   "cell_type": "code",
   "execution_count": 84,
   "id": "1f7bfb7c",
   "metadata": {},
   "outputs": [
    {
     "data": {
      "image/png": "[encoded data removed]",
      "text/plain": [
       "<Figure size 432x288 with 1 Axes>"
      ]
     },
     "metadata": {},
     "output_type": "display_data"
    },
    {
     "data": {
      "image/png": "[encoded data removed]",
      "text/plain": [
       "<Figure size 432x288 with 1 Axes>"
      ]
     },
     "metadata": {},
     "output_type": "display_data"
    },
    {
     "data": {
      "image/png": "[encoded data removed]",
      "text/plain": [
       "<Figure size 432x288 with 1 Axes>"
      ]
     },
     "metadata": {},
     "output_type": "display_data"
    },
    {
     "data": {
      "image/png": "[encoded data removed]",
      "text/plain": [
       "<Figure size 432x288 with 1 Axes>"
      ]
     },
     "metadata": {},
     "output_type": "display_data"
    },
    {
     "data": {
      "image/png": "[encoded data removed]",
      "text/plain": [
       "<Figure size 432x288 with 1 Axes>"
      ]
     },
     "metadata": {},
     "output_type": "display_data"
    },
    {
     "data": {
      "image/png": "[encoded data removed]",
      "text/plain": [
       "<Figure size 432x288 with 1 Axes>"
      ]
     },
     "metadata": {},
     "output_type": "display_data"
    }
   ],
   "source": [
    "plot.subplot(1,1,1)\n",
    "sns.scatterplot(data=virginica_df, x='petal_length', y='petal_width')\n",
    "plot.scatter(x=1.4, y=0.2, marker='*', color='red')\n",
    "plot.scatter(x=1.5, y=0.2, marker='*', color='red')\n",
    "plot.xlabel('petal_length')\n",
    "plot.ylabel('petal_width')\n",
    "plot.title('Petal length v width')\n",
    "plot.show()\n",
    "\n",
    "plot.subplot(1,2,1)\n",
    "sns.scatterplot(data=virginica_df, x='petal_length', y='petal_width')\n",
    "plot.scatter(x=1.4, y=0.2, marker='*', color='red')\n",
    "plot.scatter(x=1.5, y=0.2, marker='*', color='red')\n",
    "plot.xlabel('petal_length')\n",
    "plot.ylabel('petal_width')\n",
    "plot.title('Petal length v width')\n",
    "plot.show()\n",
    "\n",
    "plot.subplot(1,2,2)\n",
    "sns.scatterplot(data=virginica_df, x='petal_length', y='petal_width')\n",
    "plot.scatter(x=1.4, y=0.2, marker='*', color='red')\n",
    "plot.scatter(x=1.5, y=0.2, marker='*', color='red')\n",
    "plot.xlabel('petal_length')\n",
    "plot.ylabel('petal_width')\n",
    "plot.title('Petal length v width')\n",
    "plot.show()\n",
    "\n",
    "plot.subplot(2,1,1)\n",
    "sns.scatterplot(data=virginica_df, x='petal_length', y='petal_width')\n",
    "plot.scatter(x=1.4, y=0.2, marker='*', color='red')\n",
    "plot.scatter(x=1.5, y=0.2, marker='*', color='red')\n",
    "plot.xlabel('petal_length')\n",
    "plot.ylabel('petal_width')\n",
    "plot.title('Petal length v width')\n",
    "plot.show()\n",
    "\n",
    "plot.subplot(2,2,1)\n",
    "sns.scatterplot(data=virginica_df, x='petal_length', y='petal_width')\n",
    "plot.scatter(x=1.4, y=0.2, marker='*', color='red')\n",
    "plot.scatter(x=1.5, y=0.2, marker='*', color='red')\n",
    "plot.xlabel('petal_length')\n",
    "plot.ylabel('petal_width')\n",
    "plot.title('Petal length v width')\n",
    "plot.show()\n",
    "\n",
    "plot.subplot(2,2,2)\n",
    "sns.scatterplot(data=virginica_df, x='petal_length', y='petal_width')\n",
    "plot.scatter(x=1.4, y=0.2, marker='*', color='red')\n",
    "plot.scatter(x=1.5, y=0.2, marker='*', color='red')\n",
    "plot.xlabel('petal_length')\n",
    "plot.ylabel('petal_width')\n",
    "plot.title('Petal length v width')\n",
    "plot.show()"
   ]
  },
  {
   "cell_type": "code",
   "execution_count": 85,
   "id": "6b290fca",
   "metadata": {},
   "outputs": [],
   "source": [
    "#OMP_NUM_THREADS UYARISI ICIN KULLANILDI.\n",
    "\n",
    "#1 YONTEM-KULLANIM\n",
    "warnings.filterwarnings(action='once')\n",
    "\n",
    "#2 YONTEM-KULLANIM\n",
    "warnings.filterwarnings('ignore')\n",
    "\n",
    "#MULTITHREAD DETAYLARI\n",
    "#http://scv.bu.edu/examples/python/examples/parallel/multithread/"
   ]
  },
  {
   "cell_type": "code",
   "execution_count": 86,
   "id": "e1ac3748",
   "metadata": {},
   "outputs": [
    {
     "name": "stdout",
     "output_type": "stream",
     "text": [
      "##############USER FOLDER##############\n",
      "##############CUSTOM FOLDER############\n"
     ]
    },
    {
     "data": {
      "image/png": "[encoded data removed]",
      "text/plain": [
       "<Figure size 432x288 with 1 Axes>"
      ]
     },
     "metadata": {},
     "output_type": "display_data"
    }
   ],
   "source": [
    "wcss = []\n",
    "for i in range(1, 11):\n",
    "    kmeans = KMeans(n_clusters = i, init = 'k-means++', random_state = 42)\n",
    "    kmeans.fit(virginica_sc)\n",
    "    wcss.append(kmeans.inertia_)\n",
    "plot.plot(range(1, 11), wcss)\n",
    "plot.title('The Elbow Method',fontsize=20)\n",
    "plot.xlabel('Number of clusters')\n",
    "plot.ylabel('WCSS')\n",
    "print(\"##############USER FOLDER##############\")\n",
    "plot.savefig('The Elbow Method') \n",
    "print(\"##############CUSTOM FOLDER############\")\n",
    "plot.savefig('C:/Users/user/Desktop/The Elbow Method') \n",
    "plot.show()"
   ]
  },
  {
   "cell_type": "code",
   "execution_count": 87,
   "id": "01a6cab7",
   "metadata": {},
   "outputs": [],
   "source": [
    "kmeans = KMeans(n_clusters = 3, init = 'k-means++', random_state = 2).fit(virginica_sc)"
   ]
  },
  {
   "cell_type": "code",
   "execution_count": 88,
   "id": "2815ff54",
   "metadata": {},
   "outputs": [],
   "source": [
    "virginica_sc_clusters = kmeans.predict(virginica_sc)\n",
    "virginica_sc_clusters_centers = kmeans.cluster_centers_\n",
    "dist = [nmp.linalg.norm(x-y) for x, y in zip(virginica_sc, virginica_sc_clusters_centers[virginica_sc_clusters])]"
   ]
  },
  {
   "cell_type": "code",
   "execution_count": 89,
   "id": "051974f3",
   "metadata": {},
   "outputs": [
    {
     "name": "stdout",
     "output_type": "stream",
     "text": [
      "##############virginica_sc_clusters##############\n",
      "[2 2 2 2 0 1 0 1 0 0 1 0 1 0 0 1 0 1 1 0 1 0 0 1 0 1 0 1 0 0 1 1 1 0 0 0 1\n",
      " 1 1 0 0 1 1 0 0 0 1 0 0 0 1 1 0 1]\n",
      "\n",
      "\n",
      "##############dist##############\n",
      "[0.07402432501849947, 0.09181077301375488, 0.11490658639494417, 0.08339310144078967, 0.27301467160846143, 0.10423488051080937, 0.10889543792943861, 0.1343185933617691, 0.18604661966218702, 0.25063980392039015, 0.43110639213104957, 0.255193185433883, 0.2707861645296507, 0.3160000571091599, 0.22232857813865547, 0.1033834669466382, 0.13866711598931838, 0.21547456675859797, 0.24912108967314195, 0.2215097842306066, 0.20568756146950157, 0.47967821360060797, 0.45425030621726215, 0.38018831539615566, 0.07310397416428537, 0.17822809584430885, 0.3539512930067886, 0.08860737628087151, 0.13581384276409064, 0.17132984413599794, 0.08101085853781526, 0.16131900532549187, 0.16039515829754034, 0.2668413341666265, 0.28409609036755185, 0.5035404306399374, 0.18991521892721566, 0.16181242305433863, 0.22551664833726495, 0.249278611114647, 0.2859152229486244, 0.24183536352644053, 0.1707368572348257, 0.10231107452766391, 0.14634771471618704, 0.1555897176467749, 0.10423488051080937, 0.08560990693382811, 0.18956558712093685, 0.18957510521445192, 0.17551150651682504, 0.20557144338205144, 0.3083160166205286, 0.16697793213455983]\n",
      "\n",
      "\n",
      "##############dist info##############\n",
      "MIN: \n",
      "0.07310397416428537\n",
      "MAX: \n",
      "0.5035404306399374\n",
      "AVG: \n",
      "0.20699107637934358\n",
      "MED: \n",
      "0.18780610339156195\n"
     ]
    },
    {
     "data": {
      "text/plain": [
       "(None, None)"
      ]
     },
     "execution_count": 89,
     "metadata": {},
     "output_type": "execute_result"
    }
   ],
   "source": [
    "print(\"##############virginica_sc_clusters##############\")\n",
    "print(virginica_sc_clusters)\n",
    "print(f\"\\n\")\n",
    "print(\"##############dist##############\")\n",
    "print(dist)\n",
    "print(f\"\\n\")\n",
    "print(\"##############dist info##############\")\n",
    "print(\"MIN: \"),print(nmp.min(list(dist)))\n",
    "print(\"MAX: \"),print(nmp.max(list(dist)))\n",
    "print(\"AVG: \"),print(nmp.average(list(dist)))\n",
    "print(\"MED: \"),print(nmp.median(list(dist)))"
   ]
  },
  {
   "cell_type": "code",
   "execution_count": 90,
   "id": "0d114d2f",
   "metadata": {},
   "outputs": [],
   "source": [
    "km_y_pred = nmp.array(dist)\n",
    "km_y_pred[dist >= nmp.percentile(dist, 95)] = 1\n",
    "km_y_pred[dist <  nmp.percentile(dist, 95)] = 0"
   ]
  },
  {
   "cell_type": "code",
   "execution_count": 91,
   "id": "31815a97",
   "metadata": {},
   "outputs": [],
   "source": [
    "virginica_clus = pd.concat([virginica_df,\n",
    "                 pd.DataFrame(virginica_sc_clusters,columns=['Clusters'])],axis=1)"
   ]
  },
  {
   "cell_type": "code",
   "execution_count": 92,
   "id": "596ce2f2",
   "metadata": {},
   "outputs": [
    {
     "name": "stdout",
     "output_type": "stream",
     "text": [
      "   sepal_length  sepal_width  petal_length  petal_width    species  Clusters\n",
      "0           4.7          3.2           1.3          0.2  virginica         2\n",
      "1           5.0          3.4           1.5          0.2  virginica         2\n",
      "2           4.9          3.1           1.5          0.1  virginica         2\n",
      "3           4.8          3.4           1.6          0.2  virginica         2\n",
      "4           6.3          3.3           6.0          2.5  virginica         0\n",
      "5           5.8          2.7           5.1          1.9  virginica         1\n",
      "6           7.1          3.0           5.9          2.1  virginica         0\n",
      "7           6.3          2.9           5.6          1.8  virginica         1\n",
      "8           6.5          3.0           5.8          2.2  virginica         0\n",
      "9           7.6          3.0           6.6          2.1  virginica         0\n"
     ]
    }
   ],
   "source": [
    "print(virginica_clus.head(10))"
   ]
  },
  {
   "cell_type": "code",
   "execution_count": 93,
   "id": "77d035c4",
   "metadata": {},
   "outputs": [
    {
     "data": {
      "image/png": "[encoded data removed]",
      "text/plain": [
       "<Figure size 432x288 with 1 Axes>"
      ]
     },
     "metadata": {},
     "output_type": "display_data"
    }
   ],
   "source": [
    "plot.subplot(1,2,1)\n",
    "sns.scatterplot(data=virginica_clus, x='sepal_length', y='sepal_width', hue='Clusters', palette='deep')\n",
    "plot.xlabel('sepal_length')\n",
    "plot.ylabel('sepal_width')\n",
    "plot.legend( loc='lower right')\n",
    "plot.title('Sepal length v width')\n",
    "plot.show()"
   ]
  },
  {
   "cell_type": "code",
   "execution_count": 94,
   "id": "66790dfd",
   "metadata": {},
   "outputs": [
    {
     "data": {
      "image/png": "[encoded data removed]",
      "text/plain": [
       "<Figure size 432x288 with 1 Axes>"
      ]
     },
     "metadata": {},
     "output_type": "display_data"
    }
   ],
   "source": [
    "plot.subplot(1,2,2)\n",
    "sns.scatterplot(data=virginica_clus, x='petal_length', y='petal_width', hue='Clusters', palette='deep')\n",
    "plot.xlabel('petal_length')\n",
    "plot.ylabel('petal_width')\n",
    "plot.legend(loc='lower right')\n",
    "plot.title('Petal length v width')\n",
    "plot.show()"
   ]
  },
  {
   "cell_type": "code",
   "execution_count": 95,
   "id": "89201965",
   "metadata": {},
   "outputs": [],
   "source": [
    "dbs = DBSCAN(eps=0.75, min_samples=2, n_jobs=-1).fit(virginica_sc)"
   ]
  },
  {
   "cell_type": "code",
   "execution_count": 96,
   "id": "491ada3d",
   "metadata": {},
   "outputs": [],
   "source": [
    "pred_labels = dbs.labels_\n",
    "n_clusters = len(set(pred_labels)) - (1 if -1 in pred_labels else 0)"
   ]
  },
  {
   "cell_type": "code",
   "execution_count": 97,
   "id": "c5b0a11c",
   "metadata": {},
   "outputs": [
    {
     "name": "stdout",
     "output_type": "stream",
     "text": [
      "##############pred_labels##############\n",
      "[0 0 0 0 1 1 1 1 1 1 1 1 1 1 1 1 1 1 1 1 1 1 1 1 1 1 1 1 1 1 1 1 1 1 1 1 1\n",
      " 1 1 1 1 1 1 1 1 1 1 1 1 1 1 1 1 1]\n",
      "\n",
      "\n",
      "##############n_clusters###############\n",
      "2\n",
      "\n",
      "\n",
      "##############info#####################\n",
      "Tahmini küme sayısı: 2\n"
     ]
    }
   ],
   "source": [
    "print(\"##############pred_labels##############\")\n",
    "print(pred_labels)\n",
    "print(f\"\\n\")\n",
    "print(\"##############n_clusters###############\")\n",
    "print(n_clusters)\n",
    "print(f\"\\n\")\n",
    "print(\"##############info#####################\")\n",
    "print('Tahmini küme sayısı: %d' % n_clusters)"
   ]
  },
  {
   "cell_type": "code",
   "execution_count": 98,
   "id": "943ce009",
   "metadata": {},
   "outputs": [],
   "source": [
    "virginica_db = pd.concat([virginica_clus,pd.DataFrame(pred_labels,columns=['dbs_cluster'])],axis=1)"
   ]
  },
  {
   "cell_type": "code",
   "execution_count": 99,
   "id": "90fc5b54",
   "metadata": {},
   "outputs": [
    {
     "data": {
      "text/html": [
       "<div>\n",
       "<style scoped>\n",
       "    .dataframe tbody tr th:only-of-type {\n",
       "        vertical-align: middle;\n",
       "    }\n",
       "\n",
       "    .dataframe tbody tr th {\n",
       "        vertical-align: top;\n",
       "    }\n",
       "\n",
       "    .dataframe thead th {\n",
       "        text-align: right;\n",
       "    }\n",
       "</style>\n",
       "<table border=\"1\" class=\"dataframe\">\n",
       "  <thead>\n",
       "    <tr style=\"text-align: right;\">\n",
       "      <th></th>\n",
       "      <th>sepal_length</th>\n",
       "      <th>sepal_width</th>\n",
       "      <th>petal_length</th>\n",
       "      <th>petal_width</th>\n",
       "      <th>species</th>\n",
       "      <th>Clusters</th>\n",
       "      <th>dbs_cluster</th>\n",
       "    </tr>\n",
       "  </thead>\n",
       "  <tbody>\n",
       "    <tr>\n",
       "      <th>0</th>\n",
       "      <td>4.7</td>\n",
       "      <td>3.2</td>\n",
       "      <td>1.3</td>\n",
       "      <td>0.2</td>\n",
       "      <td>virginica</td>\n",
       "      <td>2</td>\n",
       "      <td>0</td>\n",
       "    </tr>\n",
       "    <tr>\n",
       "      <th>1</th>\n",
       "      <td>5.0</td>\n",
       "      <td>3.4</td>\n",
       "      <td>1.5</td>\n",
       "      <td>0.2</td>\n",
       "      <td>virginica</td>\n",
       "      <td>2</td>\n",
       "      <td>0</td>\n",
       "    </tr>\n",
       "    <tr>\n",
       "      <th>2</th>\n",
       "      <td>4.9</td>\n",
       "      <td>3.1</td>\n",
       "      <td>1.5</td>\n",
       "      <td>0.1</td>\n",
       "      <td>virginica</td>\n",
       "      <td>2</td>\n",
       "      <td>0</td>\n",
       "    </tr>\n",
       "    <tr>\n",
       "      <th>3</th>\n",
       "      <td>4.8</td>\n",
       "      <td>3.4</td>\n",
       "      <td>1.6</td>\n",
       "      <td>0.2</td>\n",
       "      <td>virginica</td>\n",
       "      <td>2</td>\n",
       "      <td>0</td>\n",
       "    </tr>\n",
       "    <tr>\n",
       "      <th>4</th>\n",
       "      <td>6.3</td>\n",
       "      <td>3.3</td>\n",
       "      <td>6.0</td>\n",
       "      <td>2.5</td>\n",
       "      <td>virginica</td>\n",
       "      <td>0</td>\n",
       "      <td>1</td>\n",
       "    </tr>\n",
       "    <tr>\n",
       "      <th>5</th>\n",
       "      <td>5.8</td>\n",
       "      <td>2.7</td>\n",
       "      <td>5.1</td>\n",
       "      <td>1.9</td>\n",
       "      <td>virginica</td>\n",
       "      <td>1</td>\n",
       "      <td>1</td>\n",
       "    </tr>\n",
       "    <tr>\n",
       "      <th>6</th>\n",
       "      <td>7.1</td>\n",
       "      <td>3.0</td>\n",
       "      <td>5.9</td>\n",
       "      <td>2.1</td>\n",
       "      <td>virginica</td>\n",
       "      <td>0</td>\n",
       "      <td>1</td>\n",
       "    </tr>\n",
       "    <tr>\n",
       "      <th>7</th>\n",
       "      <td>6.3</td>\n",
       "      <td>2.9</td>\n",
       "      <td>5.6</td>\n",
       "      <td>1.8</td>\n",
       "      <td>virginica</td>\n",
       "      <td>1</td>\n",
       "      <td>1</td>\n",
       "    </tr>\n",
       "    <tr>\n",
       "      <th>8</th>\n",
       "      <td>6.5</td>\n",
       "      <td>3.0</td>\n",
       "      <td>5.8</td>\n",
       "      <td>2.2</td>\n",
       "      <td>virginica</td>\n",
       "      <td>0</td>\n",
       "      <td>1</td>\n",
       "    </tr>\n",
       "    <tr>\n",
       "      <th>9</th>\n",
       "      <td>7.6</td>\n",
       "      <td>3.0</td>\n",
       "      <td>6.6</td>\n",
       "      <td>2.1</td>\n",
       "      <td>virginica</td>\n",
       "      <td>0</td>\n",
       "      <td>1</td>\n",
       "    </tr>\n",
       "    <tr>\n",
       "      <th>10</th>\n",
       "      <td>4.9</td>\n",
       "      <td>2.5</td>\n",
       "      <td>4.5</td>\n",
       "      <td>1.7</td>\n",
       "      <td>virginica</td>\n",
       "      <td>1</td>\n",
       "      <td>1</td>\n",
       "    </tr>\n",
       "    <tr>\n",
       "      <th>11</th>\n",
       "      <td>7.3</td>\n",
       "      <td>2.9</td>\n",
       "      <td>6.3</td>\n",
       "      <td>1.8</td>\n",
       "      <td>virginica</td>\n",
       "      <td>0</td>\n",
       "      <td>1</td>\n",
       "    </tr>\n",
       "    <tr>\n",
       "      <th>12</th>\n",
       "      <td>6.7</td>\n",
       "      <td>2.5</td>\n",
       "      <td>5.8</td>\n",
       "      <td>1.8</td>\n",
       "      <td>virginica</td>\n",
       "      <td>1</td>\n",
       "      <td>1</td>\n",
       "    </tr>\n",
       "    <tr>\n",
       "      <th>13</th>\n",
       "      <td>7.2</td>\n",
       "      <td>3.6</td>\n",
       "      <td>6.1</td>\n",
       "      <td>2.5</td>\n",
       "      <td>virginica</td>\n",
       "      <td>0</td>\n",
       "      <td>1</td>\n",
       "    </tr>\n",
       "    <tr>\n",
       "      <th>14</th>\n",
       "      <td>6.5</td>\n",
       "      <td>3.2</td>\n",
       "      <td>5.1</td>\n",
       "      <td>2.0</td>\n",
       "      <td>virginica</td>\n",
       "      <td>0</td>\n",
       "      <td>1</td>\n",
       "    </tr>\n",
       "  </tbody>\n",
       "</table>\n",
       "</div>"
      ],
      "text/plain": [
       "    sepal_length  sepal_width  petal_length  petal_width    species  Clusters  \\\n",
       "0            4.7          3.2           1.3          0.2  virginica         2   \n",
       "1            5.0          3.4           1.5          0.2  virginica         2   \n",
       "2            4.9          3.1           1.5          0.1  virginica         2   \n",
       "3            4.8          3.4           1.6          0.2  virginica         2   \n",
       "4            6.3          3.3           6.0          2.5  virginica         0   \n",
       "5            5.8          2.7           5.1          1.9  virginica         1   \n",
       "6            7.1          3.0           5.9          2.1  virginica         0   \n",
       "7            6.3          2.9           5.6          1.8  virginica         1   \n",
       "8            6.5          3.0           5.8          2.2  virginica         0   \n",
       "9            7.6          3.0           6.6          2.1  virginica         0   \n",
       "10           4.9          2.5           4.5          1.7  virginica         1   \n",
       "11           7.3          2.9           6.3          1.8  virginica         0   \n",
       "12           6.7          2.5           5.8          1.8  virginica         1   \n",
       "13           7.2          3.6           6.1          2.5  virginica         0   \n",
       "14           6.5          3.2           5.1          2.0  virginica         0   \n",
       "\n",
       "    dbs_cluster  \n",
       "0             0  \n",
       "1             0  \n",
       "2             0  \n",
       "3             0  \n",
       "4             1  \n",
       "5             1  \n",
       "6             1  \n",
       "7             1  \n",
       "8             1  \n",
       "9             1  \n",
       "10            1  \n",
       "11            1  \n",
       "12            1  \n",
       "13            1  \n",
       "14            1  "
      ]
     },
     "execution_count": 99,
     "metadata": {},
     "output_type": "execute_result"
    }
   ],
   "source": [
    "virginica_db.head(15)"
   ]
  }
 ],
 "metadata": {
  "kernelspec": {
   "display_name": "Python 3 (ipykernel)",
   "language": "python",
   "name": "python3"
  },
  "language_info": {
   "codemirror_mode": {
    "name": "ipython",
    "version": 3
   },
   "file_extension": ".py",
   "mimetype": "text/x-python",
   "name": "python",
   "nbconvert_exporter": "python",
   "pygments_lexer": "ipython3",
   "version": "3.9.12"
  }
 },
 "nbformat": 4,
 "nbformat_minor": 5
}
